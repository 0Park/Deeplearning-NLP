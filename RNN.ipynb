{
  "nbformat": 4,
  "nbformat_minor": 0,
  "metadata": {
    "colab": {
      "name": "RNN.ipynb",
      "provenance": [],
      "collapsed_sections": [],
      "authorship_tag": "ABX9TyOTip7sIs2Gqz8UD+rsw3Iq",
      "include_colab_link": true
    },
    "kernelspec": {
      "name": "python3",
      "display_name": "Python 3"
    },
    "accelerator": "TPU"
  },
  "cells": [
    {
      "cell_type": "markdown",
      "metadata": {
        "id": "view-in-github",
        "colab_type": "text"
      },
      "source": [
        "<a href=\"https://colab.research.google.com/github/0Park/Deeplearning-NLP/blob/master/RNN.ipynb\" target=\"_parent\"><img src=\"https://colab.research.google.com/assets/colab-badge.svg\" alt=\"Open In Colab\"/></a>"
      ]
    },
    {
      "cell_type": "markdown",
      "metadata": {
        "id": "mCith5L94-5j",
        "colab_type": "text"
      },
      "source": [
        "Keras를 이용해서 RNN 층 만들기"
      ]
    },
    {
      "cell_type": "code",
      "metadata": {
        "id": "Y9CXlB0r3vI5",
        "colab_type": "code",
        "colab": {
          "base_uri": "https://localhost:8080/",
          "height": 197
        },
        "outputId": "0aec095e-0f25-42d0-e116-7ff9c689b89a"
      },
      "source": [
        "from keras.models import Sequential\n",
        "from keras.layers import SimpleRNN\n",
        "\n",
        "model=Sequential()\n",
        "model.add(SimpleRNN(3,input_shape=(2,10)))\n",
        "#model.add(SimpleRNN(3,input_length=2,input_dim=10))\n",
        "model.summary()\n"
      ],
      "execution_count": null,
      "outputs": [
        {
          "output_type": "stream",
          "text": [
            "Model: \"sequential\"\n",
            "_________________________________________________________________\n",
            "Layer (type)                 Output Shape              Param #   \n",
            "=================================================================\n",
            "simple_rnn (SimpleRNN)       (None, 3)                 42        \n",
            "=================================================================\n",
            "Total params: 42\n",
            "Trainable params: 42\n",
            "Non-trainable params: 0\n",
            "_________________________________________________________________\n"
          ],
          "name": "stdout"
        }
      ]
    },
    {
      "cell_type": "code",
      "metadata": {
        "id": "mctxFgxq4Z2n",
        "colab_type": "code",
        "colab": {
          "base_uri": "https://localhost:8080/",
          "height": 197
        },
        "outputId": "765f691a-4d31-4f21-e749-21a0aba52f10"
      },
      "source": [
        "model=Sequential()\n",
        "model.add(SimpleRNN(3,batch_input_shape=(8,2,10)))\n",
        "model.summary()"
      ],
      "execution_count": null,
      "outputs": [
        {
          "output_type": "stream",
          "text": [
            "Model: \"sequential_1\"\n",
            "_________________________________________________________________\n",
            "Layer (type)                 Output Shape              Param #   \n",
            "=================================================================\n",
            "simple_rnn_1 (SimpleRNN)     (8, 3)                    42        \n",
            "=================================================================\n",
            "Total params: 42\n",
            "Trainable params: 42\n",
            "Non-trainable params: 0\n",
            "_________________________________________________________________\n"
          ],
          "name": "stdout"
        }
      ]
    },
    {
      "cell_type": "code",
      "metadata": {
        "id": "ImesSUln4nIi",
        "colab_type": "code",
        "colab": {
          "base_uri": "https://localhost:8080/",
          "height": 197
        },
        "outputId": "6a04efba-6bc8-45b4-ad1f-1fb2c23cab24"
      },
      "source": [
        "model=Sequential()\n",
        "model.add(SimpleRNN(3,batch_input_shape=(8,2,10),return_sequences=True))\n",
        "model.summary()"
      ],
      "execution_count": null,
      "outputs": [
        {
          "output_type": "stream",
          "text": [
            "Model: \"sequential_2\"\n",
            "_________________________________________________________________\n",
            "Layer (type)                 Output Shape              Param #   \n",
            "=================================================================\n",
            "simple_rnn_2 (SimpleRNN)     (8, 2, 3)                 42        \n",
            "=================================================================\n",
            "Total params: 42\n",
            "Trainable params: 42\n",
            "Non-trainable params: 0\n",
            "_________________________________________________________________\n"
          ],
          "name": "stdout"
        }
      ]
    },
    {
      "cell_type": "markdown",
      "metadata": {
        "id": "6pVKqXVD5IFU",
        "colab_type": "text"
      },
      "source": [
        "직접 RNN 층 만들기"
      ]
    },
    {
      "cell_type": "code",
      "metadata": {
        "id": "dr8ibmrG5Lea",
        "colab_type": "code",
        "colab": {}
      },
      "source": [
        "import numpy as np\n",
        "timesteps=10 # the number of time.In NLP, it usually means the length of sentence.\n",
        "input_dim=4 # dimension of input. In NLP, it usually means the dimension of word vector\n",
        "hidden_size=8 # size of hidden state. capacity of the memory cell\n",
        "\n",
        "inputs=np.random.random((timesteps,input_dim)) # 2D tensor\n",
        "\n",
        "hidden_state_t=np.zeros((hidden_size,))\n"
      ],
      "execution_count": null,
      "outputs": []
    },
    {
      "cell_type": "code",
      "metadata": {
        "id": "t3EdQWLT6gE4",
        "colab_type": "code",
        "colab": {
          "base_uri": "https://localhost:8080/",
          "height": 35
        },
        "outputId": "0924181b-6d44-43da-f863-263cc5289f0b"
      },
      "source": [
        "print(hidden_state_t)"
      ],
      "execution_count": null,
      "outputs": [
        {
          "output_type": "stream",
          "text": [
            "[0. 0. 0. 0. 0. 0. 0. 0.]\n"
          ],
          "name": "stdout"
        }
      ]
    },
    {
      "cell_type": "code",
      "metadata": {
        "id": "mcbGU3_j6h3p",
        "colab_type": "code",
        "colab": {}
      },
      "source": [
        "Wx=np.random.random((hidden_size,input_dim)) # (8,4) 2D tensor. weight for input\n",
        "Wh=np.random.random((hidden_size,hidden_size)) #(8,8) 2D tensor weight for hidden state\n",
        "b=np.random.random((hidden_size,))"
      ],
      "execution_count": null,
      "outputs": []
    },
    {
      "cell_type": "code",
      "metadata": {
        "id": "knja5POA7NaK",
        "colab_type": "code",
        "colab": {
          "base_uri": "https://localhost:8080/",
          "height": 71
        },
        "outputId": "d7626fc7-6d29-4fdc-d281-98c3e938936f"
      },
      "source": [
        "print(np.shape(Wx))\n",
        "print(np.shape(Wh))\n",
        "print(np.shape(b))"
      ],
      "execution_count": null,
      "outputs": [
        {
          "output_type": "stream",
          "text": [
            "(8, 4)\n",
            "(8, 8)\n",
            "(8,)\n"
          ],
          "name": "stdout"
        }
      ]
    },
    {
      "cell_type": "code",
      "metadata": {
        "id": "RkfRUdeh7UQI",
        "colab_type": "code",
        "colab": {
          "base_uri": "https://localhost:8080/",
          "height": 557
        },
        "outputId": "dca0e336-b245-48ec-d50c-acd9aa4c406b"
      },
      "source": [
        "total_hidden_states=[]\n",
        "\n",
        "for input_t in inputs:\n",
        "  output_t=np.tanh(np.dot(Wx,input_t)+np.dot(Wh,hidden_state_t)+b) # Wx*Xt+Wh*Ht+b\n",
        "  total_hidden_states.append(list(output_t))\n",
        "  print(np.shape(total_hidden_states))\n",
        "  hidden_state_t=output_t  # (timestep,output_dim)\n",
        "total_hidden_states=np.stack(total_hidden_states,axis=0)\n",
        "print(total_hidden_states)"
      ],
      "execution_count": null,
      "outputs": [
        {
          "output_type": "stream",
          "text": [
            "(1, 8)\n",
            "(2, 8)\n",
            "(3, 8)\n",
            "(4, 8)\n",
            "(5, 8)\n",
            "(6, 8)\n",
            "(7, 8)\n",
            "(8, 8)\n",
            "(9, 8)\n",
            "(10, 8)\n",
            "[[0.96936308 0.51736049 0.99118386 0.93065465 0.97308843 0.97350409\n",
            "  0.98648185 0.95156147]\n",
            " [0.99934293 0.99860742 0.99999845 0.99591998 0.99971645 0.99925761\n",
            "  0.99983919 0.99741441]\n",
            " [0.99912521 0.99898879 0.99999881 0.99824558 0.99982252 0.99939129\n",
            "  0.99988538 0.99827781]\n",
            " [0.99975547 0.9993505  0.99999969 0.99873436 0.99993478 0.99975319\n",
            "  0.99994064 0.99914601]\n",
            " [0.9992923  0.99899124 0.99999906 0.99903318 0.99989811 0.99959992\n",
            "  0.99992241 0.99869862]\n",
            " [0.99972132 0.9992318  0.99999915 0.99860098 0.99985476 0.99925668\n",
            "  0.99994356 0.99803359]\n",
            " [0.99980507 0.99934519 0.99999961 0.99886305 0.9999252  0.99964891\n",
            "  0.99994797 0.99880559]\n",
            " [0.99941129 0.99914186 0.9999994  0.99815953 0.99987672 0.99958862\n",
            "  0.99984485 0.99834131]\n",
            " [0.9998688  0.99939168 0.99999983 0.99964796 0.9999818  0.99990935\n",
            "  0.99997952 0.99961319]\n",
            " [0.99915456 0.99911963 0.99999907 0.99601737 0.99972706 0.9992315\n",
            "  0.99975174 0.99757638]]\n"
          ],
          "name": "stdout"
        }
      ]
    },
    {
      "cell_type": "markdown",
      "metadata": {
        "id": "qtWBzm3m9ETi",
        "colab_type": "text"
      },
      "source": [
        "깊은 순환 신경망"
      ]
    },
    {
      "cell_type": "code",
      "metadata": {
        "id": "0_pv3aLK9HXk",
        "colab_type": "code",
        "colab": {}
      },
      "source": [
        "model=Sequential()\n",
        "model.add(SimpleRNN(hidden_size,return_sequences=True))\n",
        "model.add(SimpleRNN(hidden_size,return_sequences=True))"
      ],
      "execution_count": null,
      "outputs": []
    },
    {
      "cell_type": "code",
      "metadata": {
        "id": "HVbzYguy9siN",
        "colab_type": "code",
        "colab": {}
      },
      "source": [
        "# Bidirectional Recurrent Neural Network\n",
        "from tensorflow.keras.models import Sequential\n",
        "from tensorflow.keras.layers import SimpleRNN,Bidirectional\n",
        "\n",
        "model=Sequential()\n",
        "model.add(Bidirectional(SimpleRNN(hidden_size,return_sequences=True),input_shape=(timesteps,input_dim)))\n"
      ],
      "execution_count": null,
      "outputs": []
    },
    {
      "cell_type": "code",
      "metadata": {
        "id": "-fbWQU8S-o3X",
        "colab_type": "code",
        "colab": {}
      },
      "source": [
        "model=Sequential()\n",
        "model.add(Bidirectional(SimpleRNN(hidden_size,return_sequences=True),input_shape=(timesteps,input_dim)))\n",
        "model.add(Bidirectional(SimpleRNN(hidden_size,return_sequences=True)))\n",
        "model.add(Bidirectional(SimpleRNN(hidden_size,return_sequences=True)))\n",
        "model.add(Bidirectional(SimpleRNN(hidden_size,return_sequences=True)))"
      ],
      "execution_count": null,
      "outputs": []
    }
  ]
}