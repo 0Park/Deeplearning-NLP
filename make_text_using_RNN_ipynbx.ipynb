{
  "nbformat": 4,
  "nbformat_minor": 0,
  "metadata": {
    "colab": {
      "name": "make_text_using_RNN.ipynbx",
      "provenance": [],
      "collapsed_sections": [],
      "authorship_tag": "ABX9TyOKlWVkexPxQRf2H/Jh3fbk",
      "include_colab_link": true
    },
    "kernelspec": {
      "name": "python3",
      "display_name": "Python 3"
    },
    "accelerator": "TPU"
  },
  "cells": [
    {
      "cell_type": "markdown",
      "metadata": {
        "id": "view-in-github",
        "colab_type": "text"
      },
      "source": [
        "<a href=\"https://colab.research.google.com/github/0Park/Deeplearning-NLP/blob/master/make_text_using_RNN_ipynbx.ipynb\" target=\"_parent\"><img src=\"https://colab.research.google.com/assets/colab-badge.svg\" alt=\"Open In Colab\"/></a>"
      ]
    },
    {
      "cell_type": "code",
      "metadata": {
        "id": "hFvpdzs0Dxra",
        "colab_type": "code",
        "colab": {}
      },
      "source": [
        "from tensorflow.keras.preprocessing.text import Tokenizer\n",
        "from tensorflow.keras.preprocessing.sequence import pad_sequences\n",
        "import numpy as np\n",
        "from tensorflow.keras.utils import to_categorical"
      ],
      "execution_count": null,
      "outputs": []
    },
    {
      "cell_type": "code",
      "metadata": {
        "id": "vUIsxEjBQhTd",
        "colab_type": "code",
        "colab": {
          "base_uri": "https://localhost:8080/",
          "height": 35
        },
        "outputId": "7d08da31-856e-40c5-a8cb-adef0e84f56a"
      },
      "source": [
        "text=\"\"\"경마장에 있는 말이 뛰고 있다\\n\n",
        "그의 말이 법이다\\n\n",
        "가는 말이 고와야 오는 말이 곱다\\n\"\"\"\n",
        "\n",
        "t=Tokenizer()\n",
        "t.fit_on_texts([text])\n",
        "vocab_size=len(t.word_index)+1\n",
        "print('단어 집합의 크기: %d'% vocab_size)"
      ],
      "execution_count": null,
      "outputs": [
        {
          "output_type": "stream",
          "text": [
            "단어 집합의 크기: 12\n"
          ],
          "name": "stdout"
        }
      ]
    },
    {
      "cell_type": "code",
      "metadata": {
        "id": "rNFnp2CnRSEO",
        "colab_type": "code",
        "colab": {
          "base_uri": "https://localhost:8080/",
          "height": 55
        },
        "outputId": "2638f240-8df7-44c2-8c73-60b60ac74069"
      },
      "source": [
        "print(t.word_index)"
      ],
      "execution_count": null,
      "outputs": [
        {
          "output_type": "stream",
          "text": [
            "{'말이': 1, '경마장에': 2, '있는': 3, '뛰고': 4, '있다': 5, '그의': 6, '법이다': 7, '가는': 8, '고와야': 9, '오는': 10, '곱다': 11}\n"
          ],
          "name": "stdout"
        }
      ]
    },
    {
      "cell_type": "code",
      "metadata": {
        "id": "jAhd9bpGRWxT",
        "colab_type": "code",
        "colab": {
          "base_uri": "https://localhost:8080/",
          "height": 35
        },
        "outputId": "78d6796a-f1ac-4a83-d01d-94e5e0b5c465"
      },
      "source": [
        "sequences=list()\n",
        "for line in text.split('\\n'):\n",
        "  encoded=t.texts_to_sequences([line])[0]\n",
        "  for i in range(1,len(encoded)):\n",
        "    sequence=encoded[:i+1]\n",
        "    sequences.append(sequence)\n",
        "print('학습에 사용할 샘플의 개수:%d' %len(sequences))"
      ],
      "execution_count": null,
      "outputs": [
        {
          "output_type": "stream",
          "text": [
            "학습에 사용할 샘플의 개수:11\n"
          ],
          "name": "stdout"
        }
      ]
    },
    {
      "cell_type": "code",
      "metadata": {
        "id": "OL_2D3QpXml6",
        "colab_type": "code",
        "colab": {
          "base_uri": "https://localhost:8080/",
          "height": 55
        },
        "outputId": "77c973f9-8aee-4bd3-dcf9-842fc7cc2e02"
      },
      "source": [
        "print(sequences)"
      ],
      "execution_count": null,
      "outputs": [
        {
          "output_type": "stream",
          "text": [
            "[[2, 3], [2, 3, 1], [2, 3, 1, 4], [2, 3, 1, 4, 5], [6, 1], [6, 1, 7], [8, 1], [8, 1, 9], [8, 1, 9, 10], [8, 1, 9, 10, 1], [8, 1, 9, 10, 1, 11]]\n"
          ],
          "name": "stdout"
        }
      ]
    },
    {
      "cell_type": "code",
      "metadata": {
        "id": "yn8OUNqWXq4l",
        "colab_type": "code",
        "colab": {
          "base_uri": "https://localhost:8080/",
          "height": 35
        },
        "outputId": "230f3672-b6aa-41ea-bb56-7d73bce94314"
      },
      "source": [
        "max_len=max(len(l) for l in sequences)\n",
        "print('샘플의 최대 길이:{}'.format(max_len))"
      ],
      "execution_count": null,
      "outputs": [
        {
          "output_type": "stream",
          "text": [
            "샘플의 최대 길이:6\n"
          ],
          "name": "stdout"
        }
      ]
    },
    {
      "cell_type": "code",
      "metadata": {
        "id": "C1ADv_7kXysU",
        "colab_type": "code",
        "colab": {}
      },
      "source": [
        "sequences=pad_sequences(sequences,maxlen=max_len,padding='pre')"
      ],
      "execution_count": null,
      "outputs": []
    },
    {
      "cell_type": "code",
      "metadata": {
        "id": "RGLCKcDjX-O4",
        "colab_type": "code",
        "colab": {
          "base_uri": "https://localhost:8080/",
          "height": 215
        },
        "outputId": "406f9460-79d9-4a9f-c489-ce270be010c2"
      },
      "source": [
        "print(sequences)"
      ],
      "execution_count": null,
      "outputs": [
        {
          "output_type": "stream",
          "text": [
            "[[ 0  0  0  0  2  3]\n",
            " [ 0  0  0  2  3  1]\n",
            " [ 0  0  2  3  1  4]\n",
            " [ 0  2  3  1  4  5]\n",
            " [ 0  0  0  0  6  1]\n",
            " [ 0  0  0  6  1  7]\n",
            " [ 0  0  0  0  8  1]\n",
            " [ 0  0  0  8  1  9]\n",
            " [ 0  0  8  1  9 10]\n",
            " [ 0  8  1  9 10  1]\n",
            " [ 8  1  9 10  1 11]]\n"
          ],
          "name": "stdout"
        }
      ]
    },
    {
      "cell_type": "code",
      "metadata": {
        "id": "-B-ToOvJYJ-h",
        "colab_type": "code",
        "colab": {}
      },
      "source": [
        "sequences=np.array(sequences)\n",
        "X=sequences[:,:-1]\n",
        "y=sequences[:,-1]"
      ],
      "execution_count": null,
      "outputs": []
    },
    {
      "cell_type": "code",
      "metadata": {
        "id": "b0TCs4MAYaJm",
        "colab_type": "code",
        "colab": {
          "base_uri": "https://localhost:8080/",
          "height": 233
        },
        "outputId": "445a86ea-ba07-4ebc-bb48-ec704e1d3c61"
      },
      "source": [
        "print(X)\n",
        "print(y)"
      ],
      "execution_count": null,
      "outputs": [
        {
          "output_type": "stream",
          "text": [
            "[[ 0  0  0  0  2]\n",
            " [ 0  0  0  2  3]\n",
            " [ 0  0  2  3  1]\n",
            " [ 0  2  3  1  4]\n",
            " [ 0  0  0  0  6]\n",
            " [ 0  0  0  6  1]\n",
            " [ 0  0  0  0  8]\n",
            " [ 0  0  0  8  1]\n",
            " [ 0  0  8  1  9]\n",
            " [ 0  8  1  9 10]\n",
            " [ 8  1  9 10  1]]\n",
            "[ 3  1  4  5  1  7  1  9 10  1 11]\n"
          ],
          "name": "stdout"
        }
      ]
    },
    {
      "cell_type": "code",
      "metadata": {
        "id": "DKxNxd0qYd_O",
        "colab_type": "code",
        "colab": {
          "base_uri": "https://localhost:8080/",
          "height": 215
        },
        "outputId": "58e2ef80-cbed-4384-c873-8a13ba67235f"
      },
      "source": [
        "# one hot encoding\n",
        "y=to_categorical(y,num_classes=vocab_size)\n",
        "print(y)"
      ],
      "execution_count": null,
      "outputs": [
        {
          "output_type": "stream",
          "text": [
            "[[0. 0. 0. 1. 0. 0. 0. 0. 0. 0. 0. 0.]\n",
            " [0. 1. 0. 0. 0. 0. 0. 0. 0. 0. 0. 0.]\n",
            " [0. 0. 0. 0. 1. 0. 0. 0. 0. 0. 0. 0.]\n",
            " [0. 0. 0. 0. 0. 1. 0. 0. 0. 0. 0. 0.]\n",
            " [0. 1. 0. 0. 0. 0. 0. 0. 0. 0. 0. 0.]\n",
            " [0. 0. 0. 0. 0. 0. 0. 1. 0. 0. 0. 0.]\n",
            " [0. 1. 0. 0. 0. 0. 0. 0. 0. 0. 0. 0.]\n",
            " [0. 0. 0. 0. 0. 0. 0. 0. 0. 1. 0. 0.]\n",
            " [0. 0. 0. 0. 0. 0. 0. 0. 0. 0. 1. 0.]\n",
            " [0. 1. 0. 0. 0. 0. 0. 0. 0. 0. 0. 0.]\n",
            " [0. 0. 0. 0. 0. 0. 0. 0. 0. 0. 0. 1.]]\n"
          ],
          "name": "stdout"
        }
      ]
    },
    {
      "cell_type": "code",
      "metadata": {
        "id": "tHaTNp6qYui2",
        "colab_type": "code",
        "colab": {
          "base_uri": "https://localhost:8080/",
          "height": 1000
        },
        "outputId": "ad7fa1ec-e7d8-471f-8b4e-1e0e14e3bcab"
      },
      "source": [
        "# construct model\n",
        "from tensorflow.keras.models import Sequential\n",
        "from tensorflow.keras.layers import Embedding,Dense,SimpleRNN\n",
        "\n",
        "model=Sequential()\n",
        "model.add(Embedding(vocab_size,10,input_length=max_len-1)) # cause i seperate the label from data, the length of x is 5\n",
        "model.add(SimpleRNN(32))\n",
        "model.add(Dense(vocab_size,activation='softmax'))\n",
        "model.compile(loss='categorical_crossentropy',optimizer='adam',metrics=['accuracy'])\n",
        "model.fit(X,y,epochs=200,verbose=2)"
      ],
      "execution_count": null,
      "outputs": [
        {
          "output_type": "stream",
          "text": [
            "Epoch 1/200\n",
            "1/1 - 0s - loss: 2.4808 - accuracy: 0.0000e+00\n",
            "Epoch 2/200\n",
            "1/1 - 0s - loss: 2.4688 - accuracy: 0.0909\n",
            "Epoch 3/200\n",
            "1/1 - 0s - loss: 2.4567 - accuracy: 0.1818\n",
            "Epoch 4/200\n",
            "1/1 - 0s - loss: 2.4443 - accuracy: 0.2727\n",
            "Epoch 5/200\n",
            "1/1 - 0s - loss: 2.4316 - accuracy: 0.2727\n",
            "Epoch 6/200\n",
            "1/1 - 0s - loss: 2.4184 - accuracy: 0.2727\n",
            "Epoch 7/200\n",
            "1/1 - 0s - loss: 2.4047 - accuracy: 0.2727\n",
            "Epoch 8/200\n",
            "1/1 - 0s - loss: 2.3903 - accuracy: 0.2727\n",
            "Epoch 9/200\n",
            "1/1 - 0s - loss: 2.3751 - accuracy: 0.2727\n",
            "Epoch 10/200\n",
            "1/1 - 0s - loss: 2.3593 - accuracy: 0.3636\n",
            "Epoch 11/200\n",
            "1/1 - 0s - loss: 2.3425 - accuracy: 0.3636\n",
            "Epoch 12/200\n",
            "1/1 - 0s - loss: 2.3249 - accuracy: 0.3636\n",
            "Epoch 13/200\n",
            "1/1 - 0s - loss: 2.3065 - accuracy: 0.3636\n",
            "Epoch 14/200\n",
            "1/1 - 0s - loss: 2.2871 - accuracy: 0.3636\n",
            "Epoch 15/200\n",
            "1/1 - 0s - loss: 2.2668 - accuracy: 0.3636\n",
            "Epoch 16/200\n",
            "1/1 - 0s - loss: 2.2457 - accuracy: 0.3636\n",
            "Epoch 17/200\n",
            "1/1 - 0s - loss: 2.2238 - accuracy: 0.3636\n",
            "Epoch 18/200\n",
            "1/1 - 0s - loss: 2.2012 - accuracy: 0.3636\n",
            "Epoch 19/200\n",
            "1/1 - 0s - loss: 2.1780 - accuracy: 0.3636\n",
            "Epoch 20/200\n",
            "1/1 - 0s - loss: 2.1544 - accuracy: 0.3636\n",
            "Epoch 21/200\n",
            "1/1 - 0s - loss: 2.1306 - accuracy: 0.3636\n",
            "Epoch 22/200\n",
            "1/1 - 0s - loss: 2.1067 - accuracy: 0.3636\n",
            "Epoch 23/200\n",
            "1/1 - 0s - loss: 2.0831 - accuracy: 0.3636\n",
            "Epoch 24/200\n",
            "1/1 - 0s - loss: 2.0598 - accuracy: 0.3636\n",
            "Epoch 25/200\n",
            "1/1 - 0s - loss: 2.0373 - accuracy: 0.3636\n",
            "Epoch 26/200\n",
            "1/1 - 0s - loss: 2.0155 - accuracy: 0.3636\n",
            "Epoch 27/200\n",
            "1/1 - 0s - loss: 1.9948 - accuracy: 0.3636\n",
            "Epoch 28/200\n",
            "1/1 - 0s - loss: 1.9752 - accuracy: 0.3636\n",
            "Epoch 29/200\n",
            "1/1 - 0s - loss: 1.9567 - accuracy: 0.3636\n",
            "Epoch 30/200\n",
            "1/1 - 0s - loss: 1.9395 - accuracy: 0.3636\n",
            "Epoch 31/200\n",
            "1/1 - 0s - loss: 1.9233 - accuracy: 0.3636\n",
            "Epoch 32/200\n",
            "1/1 - 0s - loss: 1.9081 - accuracy: 0.3636\n",
            "Epoch 33/200\n",
            "1/1 - 0s - loss: 1.8937 - accuracy: 0.3636\n",
            "Epoch 34/200\n",
            "1/1 - 0s - loss: 1.8799 - accuracy: 0.3636\n",
            "Epoch 35/200\n",
            "1/1 - 0s - loss: 1.8666 - accuracy: 0.3636\n",
            "Epoch 36/200\n",
            "1/1 - 0s - loss: 1.8534 - accuracy: 0.3636\n",
            "Epoch 37/200\n",
            "1/1 - 0s - loss: 1.8402 - accuracy: 0.3636\n",
            "Epoch 38/200\n",
            "1/1 - 0s - loss: 1.8269 - accuracy: 0.3636\n",
            "Epoch 39/200\n",
            "1/1 - 0s - loss: 1.8133 - accuracy: 0.3636\n",
            "Epoch 40/200\n",
            "1/1 - 0s - loss: 1.7994 - accuracy: 0.3636\n",
            "Epoch 41/200\n",
            "1/1 - 0s - loss: 1.7850 - accuracy: 0.3636\n",
            "Epoch 42/200\n",
            "1/1 - 0s - loss: 1.7703 - accuracy: 0.3636\n",
            "Epoch 43/200\n",
            "1/1 - 0s - loss: 1.7551 - accuracy: 0.3636\n",
            "Epoch 44/200\n",
            "1/1 - 0s - loss: 1.7395 - accuracy: 0.3636\n",
            "Epoch 45/200\n",
            "1/1 - 0s - loss: 1.7236 - accuracy: 0.3636\n",
            "Epoch 46/200\n",
            "1/1 - 0s - loss: 1.7074 - accuracy: 0.3636\n",
            "Epoch 47/200\n",
            "1/1 - 0s - loss: 1.6910 - accuracy: 0.3636\n",
            "Epoch 48/200\n",
            "1/1 - 0s - loss: 1.6742 - accuracy: 0.4545\n",
            "Epoch 49/200\n",
            "1/1 - 0s - loss: 1.6572 - accuracy: 0.4545\n",
            "Epoch 50/200\n",
            "1/1 - 0s - loss: 1.6400 - accuracy: 0.4545\n",
            "Epoch 51/200\n",
            "1/1 - 0s - loss: 1.6224 - accuracy: 0.4545\n",
            "Epoch 52/200\n",
            "1/1 - 0s - loss: 1.6044 - accuracy: 0.4545\n",
            "Epoch 53/200\n",
            "1/1 - 0s - loss: 1.5862 - accuracy: 0.4545\n",
            "Epoch 54/200\n",
            "1/1 - 0s - loss: 1.5675 - accuracy: 0.4545\n",
            "Epoch 55/200\n",
            "1/1 - 0s - loss: 1.5485 - accuracy: 0.4545\n",
            "Epoch 56/200\n",
            "1/1 - 0s - loss: 1.5291 - accuracy: 0.5455\n",
            "Epoch 57/200\n",
            "1/1 - 0s - loss: 1.5093 - accuracy: 0.5455\n",
            "Epoch 58/200\n",
            "1/1 - 0s - loss: 1.4892 - accuracy: 0.5455\n",
            "Epoch 59/200\n",
            "1/1 - 0s - loss: 1.4688 - accuracy: 0.5455\n",
            "Epoch 60/200\n",
            "1/1 - 0s - loss: 1.4482 - accuracy: 0.5455\n",
            "Epoch 61/200\n",
            "1/1 - 0s - loss: 1.4273 - accuracy: 0.5455\n",
            "Epoch 62/200\n",
            "1/1 - 0s - loss: 1.4064 - accuracy: 0.5455\n",
            "Epoch 63/200\n",
            "1/1 - 0s - loss: 1.3853 - accuracy: 0.5455\n",
            "Epoch 64/200\n",
            "1/1 - 0s - loss: 1.3642 - accuracy: 0.5455\n",
            "Epoch 65/200\n",
            "1/1 - 0s - loss: 1.3430 - accuracy: 0.5455\n",
            "Epoch 66/200\n",
            "1/1 - 0s - loss: 1.3219 - accuracy: 0.5455\n",
            "Epoch 67/200\n",
            "1/1 - 0s - loss: 1.3009 - accuracy: 0.5455\n",
            "Epoch 68/200\n",
            "1/1 - 0s - loss: 1.2799 - accuracy: 0.5455\n",
            "Epoch 69/200\n",
            "1/1 - 0s - loss: 1.2591 - accuracy: 0.5455\n",
            "Epoch 70/200\n",
            "1/1 - 0s - loss: 1.2384 - accuracy: 0.5455\n",
            "Epoch 71/200\n",
            "1/1 - 0s - loss: 1.2178 - accuracy: 0.5455\n",
            "Epoch 72/200\n",
            "1/1 - 0s - loss: 1.1975 - accuracy: 0.5455\n",
            "Epoch 73/200\n",
            "1/1 - 0s - loss: 1.1773 - accuracy: 0.5455\n",
            "Epoch 74/200\n",
            "1/1 - 0s - loss: 1.1573 - accuracy: 0.6364\n",
            "Epoch 75/200\n",
            "1/1 - 0s - loss: 1.1375 - accuracy: 0.6364\n",
            "Epoch 76/200\n",
            "1/1 - 0s - loss: 1.1179 - accuracy: 0.6364\n",
            "Epoch 77/200\n",
            "1/1 - 0s - loss: 1.0986 - accuracy: 0.6364\n",
            "Epoch 78/200\n",
            "1/1 - 0s - loss: 1.0796 - accuracy: 0.6364\n",
            "Epoch 79/200\n",
            "1/1 - 0s - loss: 1.0608 - accuracy: 0.6364\n",
            "Epoch 80/200\n",
            "1/1 - 0s - loss: 1.0422 - accuracy: 0.6364\n",
            "Epoch 81/200\n",
            "1/1 - 0s - loss: 1.0240 - accuracy: 0.6364\n",
            "Epoch 82/200\n",
            "1/1 - 0s - loss: 1.0060 - accuracy: 0.6364\n",
            "Epoch 83/200\n",
            "1/1 - 0s - loss: 0.9882 - accuracy: 0.6364\n",
            "Epoch 84/200\n",
            "1/1 - 0s - loss: 0.9708 - accuracy: 0.6364\n",
            "Epoch 85/200\n",
            "1/1 - 0s - loss: 0.9536 - accuracy: 0.6364\n",
            "Epoch 86/200\n",
            "1/1 - 0s - loss: 0.9366 - accuracy: 0.7273\n",
            "Epoch 87/200\n",
            "1/1 - 0s - loss: 0.9199 - accuracy: 0.7273\n",
            "Epoch 88/200\n",
            "1/1 - 0s - loss: 0.9034 - accuracy: 0.7273\n",
            "Epoch 89/200\n",
            "1/1 - 0s - loss: 0.8872 - accuracy: 0.7273\n",
            "Epoch 90/200\n",
            "1/1 - 0s - loss: 0.8713 - accuracy: 0.7273\n",
            "Epoch 91/200\n",
            "1/1 - 0s - loss: 0.8556 - accuracy: 0.7273\n",
            "Epoch 92/200\n",
            "1/1 - 0s - loss: 0.8402 - accuracy: 0.7273\n",
            "Epoch 93/200\n",
            "1/1 - 0s - loss: 0.8250 - accuracy: 0.7273\n",
            "Epoch 94/200\n",
            "1/1 - 0s - loss: 0.8101 - accuracy: 0.8182\n",
            "Epoch 95/200\n",
            "1/1 - 0s - loss: 0.7954 - accuracy: 0.8182\n",
            "Epoch 96/200\n",
            "1/1 - 0s - loss: 0.7810 - accuracy: 0.9091\n",
            "Epoch 97/200\n",
            "1/1 - 0s - loss: 0.7668 - accuracy: 0.9091\n",
            "Epoch 98/200\n",
            "1/1 - 0s - loss: 0.7529 - accuracy: 0.9091\n",
            "Epoch 99/200\n",
            "1/1 - 0s - loss: 0.7392 - accuracy: 0.9091\n",
            "Epoch 100/200\n",
            "1/1 - 0s - loss: 0.7258 - accuracy: 0.9091\n",
            "Epoch 101/200\n",
            "1/1 - 0s - loss: 0.7126 - accuracy: 0.9091\n",
            "Epoch 102/200\n",
            "1/1 - 0s - loss: 0.6996 - accuracy: 0.9091\n",
            "Epoch 103/200\n",
            "1/1 - 0s - loss: 0.6868 - accuracy: 0.9091\n",
            "Epoch 104/200\n",
            "1/1 - 0s - loss: 0.6743 - accuracy: 0.9091\n",
            "Epoch 105/200\n",
            "1/1 - 0s - loss: 0.6619 - accuracy: 0.9091\n",
            "Epoch 106/200\n",
            "1/1 - 0s - loss: 0.6498 - accuracy: 0.9091\n",
            "Epoch 107/200\n",
            "1/1 - 0s - loss: 0.6378 - accuracy: 0.9091\n",
            "Epoch 108/200\n",
            "1/1 - 0s - loss: 0.6261 - accuracy: 0.9091\n",
            "Epoch 109/200\n",
            "1/1 - 0s - loss: 0.6145 - accuracy: 0.9091\n",
            "Epoch 110/200\n",
            "1/1 - 0s - loss: 0.6031 - accuracy: 0.9091\n",
            "Epoch 111/200\n",
            "1/1 - 0s - loss: 0.5919 - accuracy: 0.9091\n",
            "Epoch 112/200\n",
            "1/1 - 0s - loss: 0.5809 - accuracy: 0.9091\n",
            "Epoch 113/200\n",
            "1/1 - 0s - loss: 0.5701 - accuracy: 0.9091\n",
            "Epoch 114/200\n",
            "1/1 - 0s - loss: 0.5594 - accuracy: 0.9091\n",
            "Epoch 115/200\n",
            "1/1 - 0s - loss: 0.5489 - accuracy: 0.9091\n",
            "Epoch 116/200\n",
            "1/1 - 0s - loss: 0.5386 - accuracy: 0.9091\n",
            "Epoch 117/200\n",
            "1/1 - 0s - loss: 0.5284 - accuracy: 0.9091\n",
            "Epoch 118/200\n",
            "1/1 - 0s - loss: 0.5183 - accuracy: 0.9091\n",
            "Epoch 119/200\n",
            "1/1 - 0s - loss: 0.5084 - accuracy: 0.9091\n",
            "Epoch 120/200\n",
            "1/1 - 0s - loss: 0.4987 - accuracy: 0.9091\n",
            "Epoch 121/200\n",
            "1/1 - 0s - loss: 0.4891 - accuracy: 0.9091\n",
            "Epoch 122/200\n",
            "1/1 - 0s - loss: 0.4797 - accuracy: 0.9091\n",
            "Epoch 123/200\n",
            "1/1 - 0s - loss: 0.4704 - accuracy: 0.9091\n",
            "Epoch 124/200\n",
            "1/1 - 0s - loss: 0.4612 - accuracy: 0.9091\n",
            "Epoch 125/200\n",
            "1/1 - 0s - loss: 0.4522 - accuracy: 0.9091\n",
            "Epoch 126/200\n",
            "1/1 - 0s - loss: 0.4433 - accuracy: 0.9091\n",
            "Epoch 127/200\n",
            "1/1 - 0s - loss: 0.4345 - accuracy: 0.9091\n",
            "Epoch 128/200\n",
            "1/1 - 0s - loss: 0.4259 - accuracy: 0.9091\n",
            "Epoch 129/200\n",
            "1/1 - 0s - loss: 0.4174 - accuracy: 0.9091\n",
            "Epoch 130/200\n",
            "1/1 - 0s - loss: 0.4090 - accuracy: 0.9091\n",
            "Epoch 131/200\n",
            "1/1 - 0s - loss: 0.4008 - accuracy: 0.9091\n",
            "Epoch 132/200\n",
            "1/1 - 0s - loss: 0.3927 - accuracy: 0.9091\n",
            "Epoch 133/200\n",
            "1/1 - 0s - loss: 0.3847 - accuracy: 0.9091\n",
            "Epoch 134/200\n",
            "1/1 - 0s - loss: 0.3769 - accuracy: 0.9091\n",
            "Epoch 135/200\n",
            "1/1 - 0s - loss: 0.3692 - accuracy: 0.9091\n",
            "Epoch 136/200\n",
            "1/1 - 0s - loss: 0.3615 - accuracy: 1.0000\n",
            "Epoch 137/200\n",
            "1/1 - 0s - loss: 0.3541 - accuracy: 1.0000\n",
            "Epoch 138/200\n",
            "1/1 - 0s - loss: 0.3467 - accuracy: 1.0000\n",
            "Epoch 139/200\n",
            "1/1 - 0s - loss: 0.3395 - accuracy: 1.0000\n",
            "Epoch 140/200\n",
            "1/1 - 0s - loss: 0.3324 - accuracy: 1.0000\n",
            "Epoch 141/200\n",
            "1/1 - 0s - loss: 0.3254 - accuracy: 1.0000\n",
            "Epoch 142/200\n",
            "1/1 - 0s - loss: 0.3185 - accuracy: 1.0000\n",
            "Epoch 143/200\n",
            "1/1 - 0s - loss: 0.3117 - accuracy: 1.0000\n",
            "Epoch 144/200\n",
            "1/1 - 0s - loss: 0.3051 - accuracy: 1.0000\n",
            "Epoch 145/200\n",
            "1/1 - 0s - loss: 0.2986 - accuracy: 1.0000\n",
            "Epoch 146/200\n",
            "1/1 - 0s - loss: 0.2922 - accuracy: 1.0000\n",
            "Epoch 147/200\n",
            "1/1 - 0s - loss: 0.2859 - accuracy: 1.0000\n",
            "Epoch 148/200\n",
            "1/1 - 0s - loss: 0.2797 - accuracy: 1.0000\n",
            "Epoch 149/200\n",
            "1/1 - 0s - loss: 0.2737 - accuracy: 1.0000\n",
            "Epoch 150/200\n",
            "1/1 - 0s - loss: 0.2677 - accuracy: 1.0000\n",
            "Epoch 151/200\n",
            "1/1 - 0s - loss: 0.2619 - accuracy: 1.0000\n",
            "Epoch 152/200\n",
            "1/1 - 0s - loss: 0.2562 - accuracy: 1.0000\n",
            "Epoch 153/200\n",
            "1/1 - 0s - loss: 0.2506 - accuracy: 1.0000\n",
            "Epoch 154/200\n",
            "1/1 - 0s - loss: 0.2451 - accuracy: 1.0000\n",
            "Epoch 155/200\n",
            "1/1 - 0s - loss: 0.2398 - accuracy: 1.0000\n",
            "Epoch 156/200\n",
            "1/1 - 0s - loss: 0.2345 - accuracy: 1.0000\n",
            "Epoch 157/200\n",
            "1/1 - 0s - loss: 0.2294 - accuracy: 1.0000\n",
            "Epoch 158/200\n",
            "1/1 - 0s - loss: 0.2244 - accuracy: 1.0000\n",
            "Epoch 159/200\n",
            "1/1 - 0s - loss: 0.2194 - accuracy: 1.0000\n",
            "Epoch 160/200\n",
            "1/1 - 0s - loss: 0.2146 - accuracy: 1.0000\n",
            "Epoch 161/200\n",
            "1/1 - 0s - loss: 0.2099 - accuracy: 1.0000\n",
            "Epoch 162/200\n",
            "1/1 - 0s - loss: 0.2053 - accuracy: 1.0000\n",
            "Epoch 163/200\n",
            "1/1 - 0s - loss: 0.2009 - accuracy: 1.0000\n",
            "Epoch 164/200\n",
            "1/1 - 0s - loss: 0.1965 - accuracy: 1.0000\n",
            "Epoch 165/200\n",
            "1/1 - 0s - loss: 0.1922 - accuracy: 1.0000\n",
            "Epoch 166/200\n",
            "1/1 - 0s - loss: 0.1880 - accuracy: 1.0000\n",
            "Epoch 167/200\n",
            "1/1 - 0s - loss: 0.1839 - accuracy: 1.0000\n",
            "Epoch 168/200\n",
            "1/1 - 0s - loss: 0.1800 - accuracy: 1.0000\n",
            "Epoch 169/200\n",
            "1/1 - 0s - loss: 0.1761 - accuracy: 1.0000\n",
            "Epoch 170/200\n",
            "1/1 - 0s - loss: 0.1723 - accuracy: 1.0000\n",
            "Epoch 171/200\n",
            "1/1 - 0s - loss: 0.1686 - accuracy: 1.0000\n",
            "Epoch 172/200\n",
            "1/1 - 0s - loss: 0.1650 - accuracy: 1.0000\n",
            "Epoch 173/200\n",
            "1/1 - 0s - loss: 0.1615 - accuracy: 1.0000\n",
            "Epoch 174/200\n",
            "1/1 - 0s - loss: 0.1581 - accuracy: 1.0000\n",
            "Epoch 175/200\n",
            "1/1 - 0s - loss: 0.1547 - accuracy: 1.0000\n",
            "Epoch 176/200\n",
            "1/1 - 0s - loss: 0.1515 - accuracy: 1.0000\n",
            "Epoch 177/200\n",
            "1/1 - 0s - loss: 0.1483 - accuracy: 1.0000\n",
            "Epoch 178/200\n",
            "1/1 - 0s - loss: 0.1452 - accuracy: 1.0000\n",
            "Epoch 179/200\n",
            "1/1 - 0s - loss: 0.1422 - accuracy: 1.0000\n",
            "Epoch 180/200\n",
            "1/1 - 0s - loss: 0.1393 - accuracy: 1.0000\n",
            "Epoch 181/200\n",
            "1/1 - 0s - loss: 0.1364 - accuracy: 1.0000\n",
            "Epoch 182/200\n",
            "1/1 - 0s - loss: 0.1337 - accuracy: 1.0000\n",
            "Epoch 183/200\n",
            "1/1 - 0s - loss: 0.1309 - accuracy: 1.0000\n",
            "Epoch 184/200\n",
            "1/1 - 0s - loss: 0.1283 - accuracy: 1.0000\n",
            "Epoch 185/200\n",
            "1/1 - 0s - loss: 0.1257 - accuracy: 1.0000\n",
            "Epoch 186/200\n",
            "1/1 - 0s - loss: 0.1232 - accuracy: 1.0000\n",
            "Epoch 187/200\n",
            "1/1 - 0s - loss: 0.1208 - accuracy: 1.0000\n",
            "Epoch 188/200\n",
            "1/1 - 0s - loss: 0.1184 - accuracy: 1.0000\n",
            "Epoch 189/200\n",
            "1/1 - 0s - loss: 0.1161 - accuracy: 1.0000\n",
            "Epoch 190/200\n",
            "1/1 - 0s - loss: 0.1139 - accuracy: 1.0000\n",
            "Epoch 191/200\n",
            "1/1 - 0s - loss: 0.1117 - accuracy: 1.0000\n",
            "Epoch 192/200\n",
            "1/1 - 0s - loss: 0.1095 - accuracy: 1.0000\n",
            "Epoch 193/200\n",
            "1/1 - 0s - loss: 0.1075 - accuracy: 1.0000\n",
            "Epoch 194/200\n",
            "1/1 - 0s - loss: 0.1054 - accuracy: 1.0000\n",
            "Epoch 195/200\n",
            "1/1 - 0s - loss: 0.1035 - accuracy: 1.0000\n",
            "Epoch 196/200\n",
            "1/1 - 0s - loss: 0.1016 - accuracy: 1.0000\n",
            "Epoch 197/200\n",
            "1/1 - 0s - loss: 0.0997 - accuracy: 1.0000\n",
            "Epoch 198/200\n",
            "1/1 - 0s - loss: 0.0979 - accuracy: 1.0000\n",
            "Epoch 199/200\n",
            "1/1 - 0s - loss: 0.0961 - accuracy: 1.0000\n",
            "Epoch 200/200\n",
            "1/1 - 0s - loss: 0.0943 - accuracy: 1.0000\n"
          ],
          "name": "stdout"
        },
        {
          "output_type": "execute_result",
          "data": {
            "text/plain": [
              "<tensorflow.python.keras.callbacks.History at 0x7fa97019af98>"
            ]
          },
          "metadata": {
            "tags": []
          },
          "execution_count": 22
        }
      ]
    },
    {
      "cell_type": "code",
      "metadata": {
        "id": "XHXRUWH4aYwd",
        "colab_type": "code",
        "colab": {}
      },
      "source": [
        "def sentence_genration(model,t,current_word,n):\n",
        "  init_word=current_word\n",
        "  sentence=''\n",
        "  for _ in range(n):\n",
        "    encoded=t.texts_to_sequences([current_word])[0]\n",
        "    encoded=pad_sequences([encoded],maxlen=5,padding='pre')\n",
        "    result=model.predict_classes(encoded,verbose=0)\n",
        "\n",
        "    for word,index in t.word_index.items():\n",
        "      if index == result:\n",
        "        break\n",
        "    current_word=current_word+ ' ' + word\n",
        "    sentence=sentence + ' ' + word\n",
        "  sentence=init_word + sentence\n",
        "\n",
        "  return sentence\n",
        "  \n"
      ],
      "execution_count": null,
      "outputs": []
    },
    {
      "cell_type": "code",
      "metadata": {
        "id": "r_1JLe4tbw3M",
        "colab_type": "code",
        "colab": {
          "base_uri": "https://localhost:8080/",
          "height": 109
        },
        "outputId": "0e2b982e-51b2-4858-ba6b-0dfb8a4ced90"
      },
      "source": [
        "print(sentence_genration(model,t,'경마장에',4))"
      ],
      "execution_count": null,
      "outputs": [
        {
          "output_type": "stream",
          "text": [
            "WARNING:tensorflow:From <ipython-input-23-4f02903ce027>:7: Sequential.predict_classes (from tensorflow.python.keras.engine.sequential) is deprecated and will be removed after 2021-01-01.\n",
            "Instructions for updating:\n",
            "Please use instead:* `np.argmax(model.predict(x), axis=-1)`,   if your model does multi-class classification   (e.g. if it uses a `softmax` last-layer activation).* `(model.predict(x) > 0.5).astype(\"int32\")`,   if your model does binary classification   (e.g. if it uses a `sigmoid` last-layer activation).\n",
            "경마장에 있는 말이 뛰고 있다\n"
          ],
          "name": "stdout"
        }
      ]
    },
    {
      "cell_type": "code",
      "metadata": {
        "id": "1SG9Vb0Sb6QI",
        "colab_type": "code",
        "colab": {
          "base_uri": "https://localhost:8080/",
          "height": 35
        },
        "outputId": "c9dfea98-b63c-4f27-fad2-3b100a4b1102"
      },
      "source": [
        "print(sentence_genration(model,t,'그의',2))"
      ],
      "execution_count": null,
      "outputs": [
        {
          "output_type": "stream",
          "text": [
            "그의 말이 법이다\n"
          ],
          "name": "stdout"
        }
      ]
    },
    {
      "cell_type": "code",
      "metadata": {
        "id": "cOHGpEawb_S6",
        "colab_type": "code",
        "colab": {
          "base_uri": "https://localhost:8080/",
          "height": 35
        },
        "outputId": "14c1933f-1f83-4670-856a-9fdbe9f44425"
      },
      "source": [
        "print(sentence_genration(model,t,'가는',5))"
      ],
      "execution_count": null,
      "outputs": [
        {
          "output_type": "stream",
          "text": [
            "가는 말이 고와야 오는 말이 곱다\n"
          ],
          "name": "stdout"
        }
      ]
    },
    {
      "cell_type": "markdown",
      "metadata": {
        "id": "4CzGGUYPcLHe",
        "colab_type": "text"
      },
      "source": [
        "Use LSTM"
      ]
    },
    {
      "cell_type": "code",
      "metadata": {
        "id": "n3iPhDz_cJ9W",
        "colab_type": "code",
        "colab": {}
      },
      "source": [
        "import pandas as pd\n",
        "from string import punctuation\n",
        "from tensorflow.keras.preprocessing.text import Tokenizer\n",
        "from tensorflow.keras.preprocessing.sequence import pad_sequences\n",
        "import numpy as np\n",
        "from tensorflow.keras.utils import to_categorical\n"
      ],
      "execution_count": null,
      "outputs": []
    },
    {
      "cell_type": "code",
      "metadata": {
        "id": "bzcvAGK_dkxi",
        "colab_type": "code",
        "colab": {
          "base_uri": "https://localhost:8080/",
          "height": 649
        },
        "outputId": "a02b5109-24a9-4a91-bc24-57bd6e663f3b"
      },
      "source": [
        "df=pd.read_csv('/content/datasets_19447_31436_ArticlesApril2018.csv')\n",
        "df.head()"
      ],
      "execution_count": null,
      "outputs": [
        {
          "output_type": "execute_result",
          "data": {
            "text/html": [
              "<div>\n",
              "<style scoped>\n",
              "    .dataframe tbody tr th:only-of-type {\n",
              "        vertical-align: middle;\n",
              "    }\n",
              "\n",
              "    .dataframe tbody tr th {\n",
              "        vertical-align: top;\n",
              "    }\n",
              "\n",
              "    .dataframe thead th {\n",
              "        text-align: right;\n",
              "    }\n",
              "</style>\n",
              "<table border=\"1\" class=\"dataframe\">\n",
              "  <thead>\n",
              "    <tr style=\"text-align: right;\">\n",
              "      <th></th>\n",
              "      <th>articleID</th>\n",
              "      <th>articleWordCount</th>\n",
              "      <th>byline</th>\n",
              "      <th>documentType</th>\n",
              "      <th>headline</th>\n",
              "      <th>keywords</th>\n",
              "      <th>multimedia</th>\n",
              "      <th>newDesk</th>\n",
              "      <th>printPage</th>\n",
              "      <th>pubDate</th>\n",
              "      <th>sectionName</th>\n",
              "      <th>snippet</th>\n",
              "      <th>source</th>\n",
              "      <th>typeOfMaterial</th>\n",
              "      <th>webURL</th>\n",
              "    </tr>\n",
              "  </thead>\n",
              "  <tbody>\n",
              "    <tr>\n",
              "      <th>0</th>\n",
              "      <td>5adf6684068401528a2aa69b</td>\n",
              "      <td>781</td>\n",
              "      <td>By JOHN BRANCH</td>\n",
              "      <td>article</td>\n",
              "      <td>Former N.F.L. Cheerleaders’ Settlement Offer: ...</td>\n",
              "      <td>['Workplace Hazards and Violations', 'Football...</td>\n",
              "      <td>68</td>\n",
              "      <td>Sports</td>\n",
              "      <td>0</td>\n",
              "      <td>2018-04-24 17:16:49</td>\n",
              "      <td>Pro Football</td>\n",
              "      <td>“I understand that they could meet with us, pa...</td>\n",
              "      <td>The New York Times</td>\n",
              "      <td>News</td>\n",
              "      <td>https://www.nytimes.com/2018/04/24/sports/foot...</td>\n",
              "    </tr>\n",
              "    <tr>\n",
              "      <th>1</th>\n",
              "      <td>5adf653f068401528a2aa697</td>\n",
              "      <td>656</td>\n",
              "      <td>By LISA FRIEDMAN</td>\n",
              "      <td>article</td>\n",
              "      <td>E.P.A. to Unveil a New Rule. Its Effect: Less ...</td>\n",
              "      <td>['Environmental Protection Agency', 'Pruitt, S...</td>\n",
              "      <td>68</td>\n",
              "      <td>Climate</td>\n",
              "      <td>0</td>\n",
              "      <td>2018-04-24 17:11:21</td>\n",
              "      <td>Unknown</td>\n",
              "      <td>The agency plans to publish a new regulation T...</td>\n",
              "      <td>The New York Times</td>\n",
              "      <td>News</td>\n",
              "      <td>https://www.nytimes.com/2018/04/24/climate/epa...</td>\n",
              "    </tr>\n",
              "    <tr>\n",
              "      <th>2</th>\n",
              "      <td>5adf4626068401528a2aa628</td>\n",
              "      <td>2427</td>\n",
              "      <td>By PETE WELLS</td>\n",
              "      <td>article</td>\n",
              "      <td>The New Noma, Explained</td>\n",
              "      <td>['Restaurants', 'Noma (Copenhagen, Restaurant)...</td>\n",
              "      <td>66</td>\n",
              "      <td>Dining</td>\n",
              "      <td>0</td>\n",
              "      <td>2018-04-24 14:58:44</td>\n",
              "      <td>Unknown</td>\n",
              "      <td>What’s it like to eat at the second incarnatio...</td>\n",
              "      <td>The New York Times</td>\n",
              "      <td>News</td>\n",
              "      <td>https://www.nytimes.com/2018/04/24/dining/noma...</td>\n",
              "    </tr>\n",
              "    <tr>\n",
              "      <th>3</th>\n",
              "      <td>5adf40d2068401528a2aa619</td>\n",
              "      <td>626</td>\n",
              "      <td>By JULIE HIRSCHFELD DAVIS and PETER BAKER</td>\n",
              "      <td>article</td>\n",
              "      <td>Unknown</td>\n",
              "      <td>['Macron, Emmanuel (1977- )', 'Trump, Donald J...</td>\n",
              "      <td>68</td>\n",
              "      <td>Washington</td>\n",
              "      <td>0</td>\n",
              "      <td>2018-04-24 14:35:57</td>\n",
              "      <td>Europe</td>\n",
              "      <td>President Trump welcomed President Emmanuel Ma...</td>\n",
              "      <td>The New York Times</td>\n",
              "      <td>News</td>\n",
              "      <td>https://www.nytimes.com/2018/04/24/world/europ...</td>\n",
              "    </tr>\n",
              "    <tr>\n",
              "      <th>4</th>\n",
              "      <td>5adf3d64068401528a2aa60f</td>\n",
              "      <td>815</td>\n",
              "      <td>By IAN AUSTEN and DAN BILEFSKY</td>\n",
              "      <td>article</td>\n",
              "      <td>Unknown</td>\n",
              "      <td>['Toronto, Ontario, Attack (April, 2018)', 'Mu...</td>\n",
              "      <td>68</td>\n",
              "      <td>Foreign</td>\n",
              "      <td>0</td>\n",
              "      <td>2018-04-24 14:21:21</td>\n",
              "      <td>Canada</td>\n",
              "      <td>Alek Minassian, 25, a resident of Toronto’s Ri...</td>\n",
              "      <td>The New York Times</td>\n",
              "      <td>News</td>\n",
              "      <td>https://www.nytimes.com/2018/04/24/world/canad...</td>\n",
              "    </tr>\n",
              "  </tbody>\n",
              "</table>\n",
              "</div>"
            ],
            "text/plain": [
              "                  articleID  ...                                             webURL\n",
              "0  5adf6684068401528a2aa69b  ...  https://www.nytimes.com/2018/04/24/sports/foot...\n",
              "1  5adf653f068401528a2aa697  ...  https://www.nytimes.com/2018/04/24/climate/epa...\n",
              "2  5adf4626068401528a2aa628  ...  https://www.nytimes.com/2018/04/24/dining/noma...\n",
              "3  5adf40d2068401528a2aa619  ...  https://www.nytimes.com/2018/04/24/world/europ...\n",
              "4  5adf3d64068401528a2aa60f  ...  https://www.nytimes.com/2018/04/24/world/canad...\n",
              "\n",
              "[5 rows x 15 columns]"
            ]
          },
          "metadata": {
            "tags": []
          },
          "execution_count": 29
        }
      ]
    },
    {
      "cell_type": "code",
      "metadata": {
        "id": "2g98uMhddxv-",
        "colab_type": "code",
        "colab": {
          "base_uri": "https://localhost:8080/",
          "height": 107
        },
        "outputId": "e19bb3c8-a78a-4a18-c6b5-fee773b8a35b"
      },
      "source": [
        "print('열의 개수:',len(df.columns))\n",
        "print(df.columns)"
      ],
      "execution_count": null,
      "outputs": [
        {
          "output_type": "stream",
          "text": [
            "열의 개수: 15\n",
            "Index(['articleID', 'articleWordCount', 'byline', 'documentType', 'headline',\n",
            "       'keywords', 'multimedia', 'newDesk', 'printPage', 'pubDate',\n",
            "       'sectionName', 'snippet', 'source', 'typeOfMaterial', 'webURL'],\n",
            "      dtype='object')\n"
          ],
          "name": "stdout"
        }
      ]
    },
    {
      "cell_type": "code",
      "metadata": {
        "id": "GJFjjMKsd5zz",
        "colab_type": "code",
        "colab": {
          "base_uri": "https://localhost:8080/",
          "height": 35
        },
        "outputId": "965113df-c036-47fe-de0c-3c897c593f91"
      },
      "source": [
        "df['headline'].isnull().values.any()"
      ],
      "execution_count": null,
      "outputs": [
        {
          "output_type": "execute_result",
          "data": {
            "text/plain": [
              "False"
            ]
          },
          "metadata": {
            "tags": []
          },
          "execution_count": 31
        }
      ]
    },
    {
      "cell_type": "code",
      "metadata": {
        "id": "Ei1Jb4ovd-kB",
        "colab_type": "code",
        "colab": {
          "base_uri": "https://localhost:8080/",
          "height": 107
        },
        "outputId": "1575e961-0e08-4108-bb80-affb4595b778"
      },
      "source": [
        "headline=[]\n",
        "headline.extend(list(df.headline.values))\n",
        "headline[:5]"
      ],
      "execution_count": null,
      "outputs": [
        {
          "output_type": "execute_result",
          "data": {
            "text/plain": [
              "['Former N.F.L. Cheerleaders’ Settlement Offer: $1 and a Meeting With Goodell',\n",
              " 'E.P.A. to Unveil a New Rule. Its Effect: Less Science in Policymaking.',\n",
              " 'The New Noma, Explained',\n",
              " 'Unknown',\n",
              " 'Unknown']"
            ]
          },
          "metadata": {
            "tags": []
          },
          "execution_count": 32
        }
      ]
    },
    {
      "cell_type": "code",
      "metadata": {
        "id": "k1ckcTT7eI3s",
        "colab_type": "code",
        "colab": {
          "base_uri": "https://localhost:8080/",
          "height": 35
        },
        "outputId": "888c52f9-7a76-4035-aac2-c1d59e72482f"
      },
      "source": [
        "print('총 샘플의 개수: {}'.format(len(headline)))"
      ],
      "execution_count": null,
      "outputs": [
        {
          "output_type": "stream",
          "text": [
            "총 샘플의 개수: 1324\n"
          ],
          "name": "stdout"
        }
      ]
    },
    {
      "cell_type": "code",
      "metadata": {
        "id": "YM5vSuvbeO3Z",
        "colab_type": "code",
        "colab": {
          "base_uri": "https://localhost:8080/",
          "height": 35
        },
        "outputId": "6176be6e-548f-47c1-f87c-8981cb08761b"
      },
      "source": [
        "headline=[n for n in headline if n!= \"Unknown\"]\n",
        "print('노이즈값 제거 후 샘플의 개수: {}'.format(len(headline)))"
      ],
      "execution_count": null,
      "outputs": [
        {
          "output_type": "stream",
          "text": [
            "노이즈값 제거 후 샘플의 개수: 1214\n"
          ],
          "name": "stdout"
        }
      ]
    },
    {
      "cell_type": "code",
      "metadata": {
        "id": "JsNlh82AeaqF",
        "colab_type": "code",
        "colab": {
          "base_uri": "https://localhost:8080/",
          "height": 107
        },
        "outputId": "e314b368-61ac-49f8-b7f3-3776a857b111"
      },
      "source": [
        "headline[:5]"
      ],
      "execution_count": null,
      "outputs": [
        {
          "output_type": "execute_result",
          "data": {
            "text/plain": [
              "['Former N.F.L. Cheerleaders’ Settlement Offer: $1 and a Meeting With Goodell',\n",
              " 'E.P.A. to Unveil a New Rule. Its Effect: Less Science in Policymaking.',\n",
              " 'The New Noma, Explained',\n",
              " 'How a Bag of Texas Dirt  Became a Times Tradition',\n",
              " 'Is School a Place for Self-Expression?']"
            ]
          },
          "metadata": {
            "tags": []
          },
          "execution_count": 35
        }
      ]
    },
    {
      "cell_type": "code",
      "metadata": {
        "id": "hXffIVaPee91",
        "colab_type": "code",
        "colab": {
          "base_uri": "https://localhost:8080/",
          "height": 107
        },
        "outputId": "815008b1-47b6-4884-df82-d26ccd899323"
      },
      "source": [
        "def repreprocessing(s):\n",
        "  s=s.encode(\"utf8\").decode(\"ascii\",'ignore')\n",
        "  return ''.join(c for c in s if c not in punctuation).lower()\n",
        "text=[repreprocessing(x) for x in headline]\n",
        "text[:5]"
      ],
      "execution_count": null,
      "outputs": [
        {
          "output_type": "execute_result",
          "data": {
            "text/plain": [
              "['former nfl cheerleaders settlement offer 1 and a meeting with goodell',\n",
              " 'epa to unveil a new rule its effect less science in policymaking',\n",
              " 'the new noma explained',\n",
              " 'how a bag of texas dirt  became a times tradition',\n",
              " 'is school a place for selfexpression']"
            ]
          },
          "metadata": {
            "tags": []
          },
          "execution_count": 38
        }
      ]
    },
    {
      "cell_type": "code",
      "metadata": {
        "id": "JI6ntFlqfPJt",
        "colab_type": "code",
        "colab": {
          "base_uri": "https://localhost:8080/",
          "height": 35
        },
        "outputId": "721058f3-0b9e-49b4-fc39-99002f53dd17"
      },
      "source": [
        "t=Tokenizer()\n",
        "t.fit_on_texts(text)\n",
        "vocab_size=len(t.word_index)+1\n",
        "print('단어 집합의 크기:%d'%vocab_size)"
      ],
      "execution_count": null,
      "outputs": [
        {
          "output_type": "stream",
          "text": [
            "단어 집합의 크기:3494\n"
          ],
          "name": "stdout"
        }
      ]
    },
    {
      "cell_type": "code",
      "metadata": {
        "id": "ddDUHbkyfdih",
        "colab_type": "code",
        "colab": {
          "base_uri": "https://localhost:8080/",
          "height": 215
        },
        "outputId": "a5531630-e192-4e8c-ff5c-8f350de08d57"
      },
      "source": [
        "sequences=list()\n",
        "\n",
        "for line in text:\n",
        "  encoded=t.texts_to_sequences([line])[0]\n",
        "  for i in range(1,len(encoded)):\n",
        "    sequence=encoded[:i+1]\n",
        "    sequences.append(sequence)\n",
        "sequences[:11]"
      ],
      "execution_count": null,
      "outputs": [
        {
          "output_type": "execute_result",
          "data": {
            "text/plain": [
              "[[99, 269],\n",
              " [99, 269, 371],\n",
              " [99, 269, 371, 1115],\n",
              " [99, 269, 371, 1115, 582],\n",
              " [99, 269, 371, 1115, 582, 52],\n",
              " [99, 269, 371, 1115, 582, 52, 7],\n",
              " [99, 269, 371, 1115, 582, 52, 7, 2],\n",
              " [99, 269, 371, 1115, 582, 52, 7, 2, 372],\n",
              " [99, 269, 371, 1115, 582, 52, 7, 2, 372, 10],\n",
              " [99, 269, 371, 1115, 582, 52, 7, 2, 372, 10, 1116],\n",
              " [100, 3]]"
            ]
          },
          "metadata": {
            "tags": []
          },
          "execution_count": 43
        }
      ]
    },
    {
      "cell_type": "code",
      "metadata": {
        "id": "g_EtWcFgeh9h",
        "colab_type": "code",
        "colab": {
          "base_uri": "https://localhost:8080/",
          "height": 35
        },
        "outputId": "324100f6-c693-4890-fa41-750a150230da"
      },
      "source": [
        "index_to_word={}\n",
        "for key, value in t.word_index.items():\n",
        "  index_to_word[value]=key\n",
        "print('빈도수 상위 582번 단어:{}'.format(index_to_word[2]))"
      ],
      "execution_count": null,
      "outputs": [
        {
          "output_type": "stream",
          "text": [
            "빈도수 상위 582번 단어:a\n"
          ],
          "name": "stdout"
        }
      ]
    },
    {
      "cell_type": "code",
      "metadata": {
        "id": "-aQVFL-7gJX3",
        "colab_type": "code",
        "colab": {
          "base_uri": "https://localhost:8080/",
          "height": 35
        },
        "outputId": "b72d026f-f458-4eb4-be0f-b7666c138d43"
      },
      "source": [
        "max_len=max(len(l) for l in sequences)\n",
        "print('샘플의 최대 길이 : {}'.format(max_len))\n"
      ],
      "execution_count": null,
      "outputs": [
        {
          "output_type": "stream",
          "text": [
            "샘플의 최대 길이 : 24\n"
          ],
          "name": "stdout"
        }
      ]
    },
    {
      "cell_type": "code",
      "metadata": {
        "id": "rUN3g1PngbzX",
        "colab_type": "code",
        "colab": {
          "base_uri": "https://localhost:8080/",
          "height": 125
        },
        "outputId": "f0fa26e6-82b9-4939-9bc6-1f0a54ea2032"
      },
      "source": [
        "sequences=pad_sequences(sequences,maxlen=max_len,padding='pre')\n",
        "print(sequences[:3])"
      ],
      "execution_count": null,
      "outputs": [
        {
          "output_type": "stream",
          "text": [
            "[[   0    0    0    0    0    0    0    0    0    0    0    0    0    0\n",
            "     0    0    0    0    0    0    0    0   99  269]\n",
            " [   0    0    0    0    0    0    0    0    0    0    0    0    0    0\n",
            "     0    0    0    0    0    0    0   99  269  371]\n",
            " [   0    0    0    0    0    0    0    0    0    0    0    0    0    0\n",
            "     0    0    0    0    0    0   99  269  371 1115]]\n"
          ],
          "name": "stdout"
        }
      ]
    },
    {
      "cell_type": "code",
      "metadata": {
        "id": "dZNbPtqegpKR",
        "colab_type": "code",
        "colab": {
          "base_uri": "https://localhost:8080/",
          "height": 143
        },
        "outputId": "d527b69b-ba28-45af-c96a-35c033fd2cd6"
      },
      "source": [
        "sequences=np.array(sequences)\n",
        "X=sequences[:,:-1]\n",
        "y=sequences[:,-1]\n",
        "print(X[:3])\n",
        "print(y[:3])"
      ],
      "execution_count": null,
      "outputs": [
        {
          "output_type": "stream",
          "text": [
            "[[  0   0   0   0   0   0   0   0   0   0   0   0   0   0   0   0   0   0\n",
            "    0   0   0   0  99]\n",
            " [  0   0   0   0   0   0   0   0   0   0   0   0   0   0   0   0   0   0\n",
            "    0   0   0  99 269]\n",
            " [  0   0   0   0   0   0   0   0   0   0   0   0   0   0   0   0   0   0\n",
            "    0   0  99 269 371]]\n",
            "[ 269  371 1115]\n"
          ],
          "name": "stdout"
        }
      ]
    },
    {
      "cell_type": "code",
      "metadata": {
        "id": "s_H7PXpOg5We",
        "colab_type": "code",
        "colab": {}
      },
      "source": [
        "y=to_categorical(y,num_classes=vocab_size)"
      ],
      "execution_count": null,
      "outputs": []
    },
    {
      "cell_type": "code",
      "metadata": {
        "id": "zq0dSfnEg-AK",
        "colab_type": "code",
        "colab": {
          "base_uri": "https://localhost:8080/",
          "height": 1000
        },
        "outputId": "bedf9059-06cd-42ba-e991-35cba550920f"
      },
      "source": [
        "from tensorflow.keras.models import Sequential\n",
        "from tensorflow.keras.layers import Embedding,Dense,LSTM\n",
        "\n",
        "model=Sequential()\n",
        "model.add(Embedding(vocab_size,10,input_length=max_len-1))\n",
        "model.add(LSTM(128))\n",
        "model.add(Dense(vocab_size,activation='softmax'))\n",
        "model.compile(loss='categorical_crossentropy',optimizer='adam',metrics=['accuracy'])\n",
        "model.fit(X,y,epochs=200,verbose=2)\n"
      ],
      "execution_count": null,
      "outputs": [
        {
          "output_type": "stream",
          "text": [
            "Epoch 1/200\n",
            "244/244 - 6s - loss: 7.6586 - accuracy: 0.0287\n",
            "Epoch 2/200\n",
            "244/244 - 6s - loss: 7.1147 - accuracy: 0.0283\n",
            "Epoch 3/200\n",
            "244/244 - 6s - loss: 6.9754 - accuracy: 0.0326\n",
            "Epoch 4/200\n",
            "244/244 - 6s - loss: 6.8510 - accuracy: 0.0392\n",
            "Epoch 5/200\n",
            "244/244 - 6s - loss: 6.7089 - accuracy: 0.0433\n",
            "Epoch 6/200\n",
            "244/244 - 6s - loss: 6.5429 - accuracy: 0.0477\n",
            "Epoch 7/200\n",
            "244/244 - 6s - loss: 6.3619 - accuracy: 0.0520\n",
            "Epoch 8/200\n",
            "244/244 - 6s - loss: 6.1682 - accuracy: 0.0593\n",
            "Epoch 9/200\n",
            "244/244 - 6s - loss: 5.9712 - accuracy: 0.0600\n",
            "Epoch 10/200\n",
            "244/244 - 6s - loss: 5.7806 - accuracy: 0.0666\n",
            "Epoch 11/200\n",
            "244/244 - 6s - loss: 5.5991 - accuracy: 0.0711\n",
            "Epoch 12/200\n",
            "244/244 - 6s - loss: 5.4324 - accuracy: 0.0752\n",
            "Epoch 13/200\n",
            "244/244 - 6s - loss: 5.2723 - accuracy: 0.0824\n",
            "Epoch 14/200\n",
            "244/244 - 6s - loss: 5.1209 - accuracy: 0.0868\n",
            "Epoch 15/200\n",
            "244/244 - 6s - loss: 4.9766 - accuracy: 0.0938\n",
            "Epoch 16/200\n",
            "244/244 - 6s - loss: 4.8387 - accuracy: 0.1077\n",
            "Epoch 17/200\n",
            "244/244 - 6s - loss: 4.7066 - accuracy: 0.1137\n",
            "Epoch 18/200\n",
            "244/244 - 6s - loss: 4.5777 - accuracy: 0.1302\n",
            "Epoch 19/200\n",
            "244/244 - 6s - loss: 4.4539 - accuracy: 0.1493\n",
            "Epoch 20/200\n",
            "244/244 - 6s - loss: 4.3350 - accuracy: 0.1620\n",
            "Epoch 21/200\n",
            "244/244 - 6s - loss: 4.2157 - accuracy: 0.1797\n",
            "Epoch 22/200\n",
            "244/244 - 6s - loss: 4.1014 - accuracy: 0.1952\n",
            "Epoch 23/200\n",
            "244/244 - 6s - loss: 3.9950 - accuracy: 0.2092\n",
            "Epoch 24/200\n",
            "244/244 - 6s - loss: 3.8854 - accuracy: 0.2289\n",
            "Epoch 25/200\n",
            "244/244 - 6s - loss: 3.7826 - accuracy: 0.2466\n",
            "Epoch 26/200\n",
            "244/244 - 6s - loss: 3.6836 - accuracy: 0.2668\n",
            "Epoch 27/200\n",
            "244/244 - 6s - loss: 3.5837 - accuracy: 0.2809\n",
            "Epoch 28/200\n",
            "244/244 - 6s - loss: 3.4897 - accuracy: 0.2957\n",
            "Epoch 29/200\n",
            "244/244 - 6s - loss: 3.3979 - accuracy: 0.3139\n",
            "Epoch 30/200\n",
            "244/244 - 6s - loss: 3.3091 - accuracy: 0.3290\n",
            "Epoch 31/200\n",
            "244/244 - 6s - loss: 3.2210 - accuracy: 0.3473\n",
            "Epoch 32/200\n",
            "244/244 - 6s - loss: 3.1386 - accuracy: 0.3632\n",
            "Epoch 33/200\n",
            "244/244 - 6s - loss: 3.0563 - accuracy: 0.3722\n",
            "Epoch 34/200\n",
            "244/244 - 6s - loss: 2.9812 - accuracy: 0.3907\n",
            "Epoch 35/200\n",
            "244/244 - 6s - loss: 2.9067 - accuracy: 0.4034\n",
            "Epoch 36/200\n",
            "244/244 - 6s - loss: 2.8312 - accuracy: 0.4192\n",
            "Epoch 37/200\n",
            "244/244 - 6s - loss: 2.7622 - accuracy: 0.4307\n",
            "Epoch 38/200\n",
            "244/244 - 6s - loss: 2.6933 - accuracy: 0.4464\n",
            "Epoch 39/200\n",
            "244/244 - 6s - loss: 2.6286 - accuracy: 0.4565\n",
            "Epoch 40/200\n",
            "244/244 - 6s - loss: 2.5643 - accuracy: 0.4683\n",
            "Epoch 41/200\n",
            "244/244 - 6s - loss: 2.4995 - accuracy: 0.4830\n",
            "Epoch 42/200\n",
            "244/244 - 6s - loss: 2.4415 - accuracy: 0.4976\n",
            "Epoch 43/200\n",
            "244/244 - 6s - loss: 2.3814 - accuracy: 0.5075\n",
            "Epoch 44/200\n",
            "244/244 - 6s - loss: 2.3259 - accuracy: 0.5188\n",
            "Epoch 45/200\n",
            "244/244 - 6s - loss: 2.2714 - accuracy: 0.5329\n",
            "Epoch 46/200\n",
            "244/244 - 6s - loss: 2.2193 - accuracy: 0.5390\n",
            "Epoch 47/200\n",
            "244/244 - 6s - loss: 2.1666 - accuracy: 0.5536\n",
            "Epoch 48/200\n",
            "244/244 - 6s - loss: 2.1117 - accuracy: 0.5629\n",
            "Epoch 49/200\n",
            "244/244 - 6s - loss: 2.0627 - accuracy: 0.5757\n",
            "Epoch 50/200\n",
            "244/244 - 6s - loss: 2.0158 - accuracy: 0.5861\n",
            "Epoch 51/200\n",
            "244/244 - 6s - loss: 1.9679 - accuracy: 0.5953\n",
            "Epoch 52/200\n",
            "244/244 - 6s - loss: 1.9227 - accuracy: 0.6090\n",
            "Epoch 53/200\n",
            "244/244 - 6s - loss: 1.8788 - accuracy: 0.6195\n",
            "Epoch 54/200\n",
            "244/244 - 6s - loss: 1.8347 - accuracy: 0.6271\n",
            "Epoch 55/200\n",
            "244/244 - 6s - loss: 1.7896 - accuracy: 0.6369\n",
            "Epoch 56/200\n",
            "244/244 - 6s - loss: 1.7505 - accuracy: 0.6454\n",
            "Epoch 57/200\n",
            "244/244 - 6s - loss: 1.7083 - accuracy: 0.6591\n",
            "Epoch 58/200\n",
            "244/244 - 6s - loss: 1.6661 - accuracy: 0.6651\n",
            "Epoch 59/200\n",
            "244/244 - 6s - loss: 1.6275 - accuracy: 0.6764\n",
            "Epoch 60/200\n",
            "244/244 - 6s - loss: 1.5890 - accuracy: 0.6858\n",
            "Epoch 61/200\n",
            "244/244 - 6s - loss: 1.5509 - accuracy: 0.6924\n",
            "Epoch 62/200\n",
            "244/244 - 6s - loss: 1.5109 - accuracy: 0.7010\n",
            "Epoch 63/200\n",
            "244/244 - 6s - loss: 1.4757 - accuracy: 0.7082\n",
            "Epoch 64/200\n",
            "244/244 - 6s - loss: 1.4400 - accuracy: 0.7179\n",
            "Epoch 65/200\n",
            "244/244 - 6s - loss: 1.4049 - accuracy: 0.7251\n",
            "Epoch 66/200\n",
            "244/244 - 6s - loss: 1.3713 - accuracy: 0.7328\n",
            "Epoch 67/200\n",
            "244/244 - 6s - loss: 1.3423 - accuracy: 0.7348\n",
            "Epoch 68/200\n",
            "244/244 - 6s - loss: 1.3064 - accuracy: 0.7465\n",
            "Epoch 69/200\n",
            "244/244 - 6s - loss: 1.2741 - accuracy: 0.7496\n",
            "Epoch 70/200\n",
            "244/244 - 6s - loss: 1.2402 - accuracy: 0.7588\n",
            "Epoch 71/200\n",
            "244/244 - 6s - loss: 1.2123 - accuracy: 0.7619\n",
            "Epoch 72/200\n",
            "244/244 - 6s - loss: 1.1811 - accuracy: 0.7719\n",
            "Epoch 73/200\n",
            "244/244 - 6s - loss: 1.1527 - accuracy: 0.7742\n",
            "Epoch 74/200\n",
            "244/244 - 6s - loss: 1.1264 - accuracy: 0.7773\n",
            "Epoch 75/200\n",
            "244/244 - 6s - loss: 1.0978 - accuracy: 0.7873\n",
            "Epoch 76/200\n",
            "244/244 - 6s - loss: 1.0693 - accuracy: 0.7897\n",
            "Epoch 77/200\n",
            "244/244 - 6s - loss: 1.0448 - accuracy: 0.7960\n",
            "Epoch 78/200\n",
            "244/244 - 6s - loss: 1.0153 - accuracy: 0.8010\n",
            "Epoch 79/200\n",
            "244/244 - 6s - loss: 0.9941 - accuracy: 0.8071\n",
            "Epoch 80/200\n",
            "244/244 - 6s - loss: 0.9670 - accuracy: 0.8108\n",
            "Epoch 81/200\n",
            "244/244 - 6s - loss: 0.9445 - accuracy: 0.8143\n",
            "Epoch 82/200\n",
            "244/244 - 6s - loss: 0.9184 - accuracy: 0.8208\n",
            "Epoch 83/200\n",
            "244/244 - 6s - loss: 0.8987 - accuracy: 0.8243\n",
            "Epoch 84/200\n",
            "244/244 - 6s - loss: 0.8767 - accuracy: 0.8275\n",
            "Epoch 85/200\n",
            "244/244 - 6s - loss: 0.8559 - accuracy: 0.8329\n",
            "Epoch 86/200\n",
            "244/244 - 6s - loss: 0.8334 - accuracy: 0.8351\n",
            "Epoch 87/200\n",
            "244/244 - 6s - loss: 0.8119 - accuracy: 0.8403\n",
            "Epoch 88/200\n",
            "244/244 - 6s - loss: 0.7934 - accuracy: 0.8449\n",
            "Epoch 89/200\n",
            "244/244 - 6s - loss: 0.7747 - accuracy: 0.8465\n",
            "Epoch 90/200\n",
            "244/244 - 6s - loss: 0.7567 - accuracy: 0.8520\n",
            "Epoch 91/200\n",
            "244/244 - 6s - loss: 0.7355 - accuracy: 0.8560\n",
            "Epoch 92/200\n",
            "244/244 - 6s - loss: 0.7173 - accuracy: 0.8608\n",
            "Epoch 93/200\n",
            "244/244 - 6s - loss: 0.7021 - accuracy: 0.8633\n",
            "Epoch 94/200\n",
            "244/244 - 6s - loss: 0.6825 - accuracy: 0.8684\n",
            "Epoch 95/200\n",
            "244/244 - 6s - loss: 0.6721 - accuracy: 0.8709\n",
            "Epoch 96/200\n",
            "244/244 - 6s - loss: 0.6539 - accuracy: 0.8722\n",
            "Epoch 97/200\n",
            "244/244 - 6s - loss: 0.6400 - accuracy: 0.8753\n",
            "Epoch 98/200\n",
            "244/244 - 6s - loss: 0.6220 - accuracy: 0.8794\n",
            "Epoch 99/200\n",
            "244/244 - 6s - loss: 0.6089 - accuracy: 0.8808\n",
            "Epoch 100/200\n",
            "244/244 - 6s - loss: 0.5967 - accuracy: 0.8815\n",
            "Epoch 101/200\n",
            "244/244 - 6s - loss: 0.5839 - accuracy: 0.8867\n",
            "Epoch 102/200\n",
            "244/244 - 6s - loss: 0.5698 - accuracy: 0.8888\n",
            "Epoch 103/200\n",
            "244/244 - 6s - loss: 0.5555 - accuracy: 0.8895\n",
            "Epoch 104/200\n",
            "244/244 - 6s - loss: 0.5439 - accuracy: 0.8916\n",
            "Epoch 105/200\n",
            "244/244 - 6s - loss: 0.5312 - accuracy: 0.8926\n",
            "Epoch 106/200\n",
            "244/244 - 6s - loss: 0.5196 - accuracy: 0.8965\n",
            "Epoch 107/200\n",
            "244/244 - 6s - loss: 0.5110 - accuracy: 0.8981\n",
            "Epoch 108/200\n",
            "244/244 - 6s - loss: 0.4997 - accuracy: 0.8968\n",
            "Epoch 109/200\n",
            "244/244 - 6s - loss: 0.4874 - accuracy: 0.9026\n",
            "Epoch 110/200\n",
            "244/244 - 6s - loss: 0.4803 - accuracy: 0.9006\n",
            "Epoch 111/200\n",
            "244/244 - 6s - loss: 0.4742 - accuracy: 0.9022\n",
            "Epoch 112/200\n",
            "244/244 - 6s - loss: 0.4619 - accuracy: 0.9044\n",
            "Epoch 113/200\n",
            "244/244 - 6s - loss: 0.4501 - accuracy: 0.9052\n",
            "Epoch 114/200\n",
            "244/244 - 6s - loss: 0.4440 - accuracy: 0.9079\n",
            "Epoch 115/200\n",
            "244/244 - 6s - loss: 0.4348 - accuracy: 0.9073\n",
            "Epoch 116/200\n",
            "244/244 - 6s - loss: 0.4272 - accuracy: 0.9066\n",
            "Epoch 117/200\n",
            "244/244 - 6s - loss: 0.4217 - accuracy: 0.9091\n",
            "Epoch 118/200\n",
            "244/244 - 6s - loss: 0.4156 - accuracy: 0.9089\n",
            "Epoch 119/200\n",
            "244/244 - 6s - loss: 0.4082 - accuracy: 0.9117\n",
            "Epoch 120/200\n",
            "244/244 - 6s - loss: 0.3993 - accuracy: 0.9113\n",
            "Epoch 121/200\n",
            "244/244 - 6s - loss: 0.3934 - accuracy: 0.9114\n",
            "Epoch 122/200\n",
            "244/244 - 6s - loss: 0.3874 - accuracy: 0.9120\n",
            "Epoch 123/200\n",
            "244/244 - 6s - loss: 0.3839 - accuracy: 0.9116\n",
            "Epoch 124/200\n",
            "244/244 - 6s - loss: 0.3773 - accuracy: 0.9111\n",
            "Epoch 125/200\n",
            "244/244 - 6s - loss: 0.3707 - accuracy: 0.9138\n",
            "Epoch 126/200\n",
            "244/244 - 6s - loss: 0.3652 - accuracy: 0.9138\n",
            "Epoch 127/200\n",
            "244/244 - 6s - loss: 0.3581 - accuracy: 0.9144\n",
            "Epoch 128/200\n",
            "244/244 - 6s - loss: 0.3542 - accuracy: 0.9139\n",
            "Epoch 129/200\n",
            "244/244 - 6s - loss: 0.3534 - accuracy: 0.9135\n",
            "Epoch 130/200\n",
            "244/244 - 6s - loss: 0.3555 - accuracy: 0.9148\n",
            "Epoch 131/200\n",
            "244/244 - 6s - loss: 0.3426 - accuracy: 0.9167\n",
            "Epoch 132/200\n",
            "244/244 - 6s - loss: 0.3384 - accuracy: 0.9161\n",
            "Epoch 133/200\n",
            "244/244 - 6s - loss: 0.3338 - accuracy: 0.9154\n",
            "Epoch 134/200\n",
            "244/244 - 6s - loss: 0.3309 - accuracy: 0.9157\n",
            "Epoch 135/200\n",
            "244/244 - 6s - loss: 0.3275 - accuracy: 0.9175\n",
            "Epoch 136/200\n",
            "244/244 - 6s - loss: 0.3250 - accuracy: 0.9171\n",
            "Epoch 137/200\n",
            "244/244 - 6s - loss: 0.3249 - accuracy: 0.9163\n",
            "Epoch 138/200\n",
            "244/244 - 6s - loss: 0.3208 - accuracy: 0.9170\n",
            "Epoch 139/200\n",
            "244/244 - 6s - loss: 0.3166 - accuracy: 0.9176\n",
            "Epoch 140/200\n",
            "244/244 - 6s - loss: 0.3148 - accuracy: 0.9170\n",
            "Epoch 141/200\n",
            "244/244 - 6s - loss: 0.3148 - accuracy: 0.9162\n",
            "Epoch 142/200\n",
            "244/244 - 6s - loss: 0.3233 - accuracy: 0.9150\n",
            "Epoch 143/200\n",
            "244/244 - 6s - loss: 0.3114 - accuracy: 0.9163\n",
            "Epoch 144/200\n",
            "244/244 - 6s - loss: 0.3040 - accuracy: 0.9168\n",
            "Epoch 145/200\n",
            "244/244 - 6s - loss: 0.3021 - accuracy: 0.9166\n",
            "Epoch 146/200\n",
            "244/244 - 6s - loss: 0.2978 - accuracy: 0.9166\n",
            "Epoch 147/200\n",
            "244/244 - 6s - loss: 0.2971 - accuracy: 0.9170\n",
            "Epoch 148/200\n",
            "244/244 - 6s - loss: 0.2943 - accuracy: 0.9155\n",
            "Epoch 149/200\n",
            "244/244 - 6s - loss: 0.2935 - accuracy: 0.9163\n",
            "Epoch 150/200\n",
            "244/244 - 6s - loss: 0.2941 - accuracy: 0.9171\n",
            "Epoch 151/200\n",
            "244/244 - 6s - loss: 0.2919 - accuracy: 0.9173\n",
            "Epoch 152/200\n",
            "244/244 - 6s - loss: 0.2890 - accuracy: 0.9173\n",
            "Epoch 153/200\n",
            "244/244 - 6s - loss: 0.2884 - accuracy: 0.9153\n",
            "Epoch 154/200\n",
            "244/244 - 6s - loss: 0.2855 - accuracy: 0.9173\n",
            "Epoch 155/200\n",
            "244/244 - 6s - loss: 0.2868 - accuracy: 0.9161\n",
            "Epoch 156/200\n",
            "244/244 - 6s - loss: 0.3133 - accuracy: 0.9132\n",
            "Epoch 157/200\n",
            "244/244 - 6s - loss: 0.3077 - accuracy: 0.9123\n",
            "Epoch 158/200\n",
            "244/244 - 6s - loss: 0.2867 - accuracy: 0.9158\n",
            "Epoch 159/200\n",
            "244/244 - 6s - loss: 0.2805 - accuracy: 0.9162\n",
            "Epoch 160/200\n",
            "244/244 - 6s - loss: 0.2770 - accuracy: 0.9186\n",
            "Epoch 161/200\n",
            "244/244 - 6s - loss: 0.2775 - accuracy: 0.9164\n",
            "Epoch 162/200\n",
            "244/244 - 6s - loss: 0.2778 - accuracy: 0.9153\n",
            "Epoch 163/200\n",
            "244/244 - 6s - loss: 0.2759 - accuracy: 0.9182\n",
            "Epoch 164/200\n",
            "244/244 - 6s - loss: 0.2761 - accuracy: 0.9155\n",
            "Epoch 165/200\n",
            "244/244 - 6s - loss: 0.2745 - accuracy: 0.9162\n",
            "Epoch 166/200\n",
            "244/244 - 6s - loss: 0.2747 - accuracy: 0.9164\n",
            "Epoch 167/200\n",
            "244/244 - 6s - loss: 0.2739 - accuracy: 0.9170\n",
            "Epoch 168/200\n",
            "244/244 - 6s - loss: 0.2734 - accuracy: 0.9162\n",
            "Epoch 169/200\n",
            "244/244 - 6s - loss: 0.2726 - accuracy: 0.9180\n",
            "Epoch 170/200\n",
            "244/244 - 6s - loss: 0.2710 - accuracy: 0.9177\n",
            "Epoch 171/200\n",
            "244/244 - 6s - loss: 0.2716 - accuracy: 0.9162\n",
            "Epoch 172/200\n",
            "244/244 - 6s - loss: 0.2727 - accuracy: 0.9166\n",
            "Epoch 173/200\n",
            "244/244 - 6s - loss: 0.2925 - accuracy: 0.9135\n",
            "Epoch 174/200\n",
            "244/244 - 6s - loss: 0.2923 - accuracy: 0.9144\n",
            "Epoch 175/200\n",
            "244/244 - 6s - loss: 0.2736 - accuracy: 0.9157\n",
            "Epoch 176/200\n",
            "244/244 - 6s - loss: 0.2698 - accuracy: 0.9167\n",
            "Epoch 177/200\n",
            "244/244 - 6s - loss: 0.2679 - accuracy: 0.9161\n",
            "Epoch 178/200\n",
            "244/244 - 6s - loss: 0.2672 - accuracy: 0.9161\n",
            "Epoch 179/200\n",
            "244/244 - 6s - loss: 0.2659 - accuracy: 0.9168\n",
            "Epoch 180/200\n",
            "244/244 - 6s - loss: 0.2666 - accuracy: 0.9163\n",
            "Epoch 181/200\n",
            "244/244 - 6s - loss: 0.2653 - accuracy: 0.9176\n",
            "Epoch 182/200\n",
            "244/244 - 6s - loss: 0.2655 - accuracy: 0.9171\n",
            "Epoch 183/200\n",
            "244/244 - 6s - loss: 0.2664 - accuracy: 0.9167\n",
            "Epoch 184/200\n",
            "244/244 - 6s - loss: 0.2660 - accuracy: 0.9163\n",
            "Epoch 185/200\n",
            "244/244 - 6s - loss: 0.2650 - accuracy: 0.9172\n",
            "Epoch 186/200\n",
            "244/244 - 6s - loss: 0.2636 - accuracy: 0.9176\n",
            "Epoch 187/200\n",
            "244/244 - 6s - loss: 0.2653 - accuracy: 0.9150\n",
            "Epoch 188/200\n",
            "244/244 - 6s - loss: 0.2645 - accuracy: 0.9155\n",
            "Epoch 189/200\n",
            "244/244 - 6s - loss: 0.2637 - accuracy: 0.9164\n",
            "Epoch 190/200\n",
            "244/244 - 6s - loss: 0.2631 - accuracy: 0.9154\n",
            "Epoch 191/200\n",
            "244/244 - 6s - loss: 0.2631 - accuracy: 0.9157\n",
            "Epoch 192/200\n",
            "244/244 - 6s - loss: 0.2655 - accuracy: 0.9155\n",
            "Epoch 193/200\n",
            "244/244 - 6s - loss: 0.2699 - accuracy: 0.9159\n",
            "Epoch 194/200\n",
            "244/244 - 6s - loss: 0.2665 - accuracy: 0.9155\n",
            "Epoch 195/200\n",
            "244/244 - 6s - loss: 0.2621 - accuracy: 0.9162\n",
            "Epoch 196/200\n",
            "244/244 - 6s - loss: 0.2620 - accuracy: 0.9163\n",
            "Epoch 197/200\n",
            "244/244 - 6s - loss: 0.2608 - accuracy: 0.9164\n",
            "Epoch 198/200\n",
            "244/244 - 6s - loss: 0.2603 - accuracy: 0.9158\n",
            "Epoch 199/200\n",
            "244/244 - 6s - loss: 0.2596 - accuracy: 0.9171\n",
            "Epoch 200/200\n",
            "244/244 - 6s - loss: 0.2629 - accuracy: 0.9157\n"
          ],
          "name": "stdout"
        },
        {
          "output_type": "execute_result",
          "data": {
            "text/plain": [
              "<tensorflow.python.keras.callbacks.History at 0x7fa96c86ac88>"
            ]
          },
          "metadata": {
            "tags": []
          },
          "execution_count": 51
        }
      ]
    },
    {
      "cell_type": "code",
      "metadata": {
        "id": "CRL5ezNJmE4m",
        "colab_type": "code",
        "colab": {}
      },
      "source": [
        "def sentence_generation(model, t, current_word, n): # 모델, 토크나이저, 현재 단어, 반복할 횟수\n",
        "    init_word = current_word # 처음 들어온 단어도 마지막에 같이 출력하기위해 저장\n",
        "    sentence = ''\n",
        "    for _ in range(n): # n번 반복\n",
        "        encoded = t.texts_to_sequences([current_word])[0] # 현재 단어에 대한 정수 인코딩\n",
        "        encoded = pad_sequences([encoded], maxlen=23, padding='pre') # 데이터에 대한 패딩\n",
        "        result = model.predict_classes(encoded, verbose=0)\n",
        "    # 입력한 X(현재 단어)에 대해서 y를 예측하고 y(예측한 단어)를 result에 저장.\n",
        "        for word, index in t.word_index.items(): \n",
        "            if index == result: # 만약 예측한 단어와 인덱스와 동일한 단어가 있다면\n",
        "                break # 해당 단어가 예측 단어이므로 break\n",
        "        current_word = current_word + ' '  + word # 현재 단어 + ' ' + 예측 단어를 현재 단어로 변경\n",
        "        sentence = sentence + ' ' + word # 예측 단어를 문장에 저장\n",
        "    # for문이므로 이 행동을 다시 반복\n",
        "    sentence = init_word + sentence\n",
        "    return sentence"
      ],
      "execution_count": null,
      "outputs": []
    },
    {
      "cell_type": "code",
      "metadata": {
        "id": "WWTLFXFRmMBU",
        "colab_type": "code",
        "colab": {
          "base_uri": "https://localhost:8080/",
          "height": 35
        },
        "outputId": "50fd23c7-fc78-4883-899f-6641557da3be"
      },
      "source": [
        "print(sentence_generation(model,t,'how',10))"
      ],
      "execution_count": null,
      "outputs": [
        {
          "output_type": "stream",
          "text": [
            "how can a doctor grapple with the epidemic of cost coverage\n"
          ],
          "name": "stdout"
        }
      ]
    }
  ]
}